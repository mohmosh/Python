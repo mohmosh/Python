{
 "cells": [
  {
   "cell_type": "code",
   "execution_count": null,
   "id": "d3670bf9",
   "metadata": {
    "vscode": {
     "languageId": "plaintext"
    }
   },
   "outputs": [],
   "source": []
  },
  {
   "cell_type": "code",
   "execution_count": null,
   "id": "7f452826",
   "metadata": {
    "vscode": {
     "languageId": "plaintext"
    }
   },
   "outputs": [],
   "source": [
    "# ==========================================\n",
    "# Part 1: Data Loading and Basic Exploration\n",
    "# ==========================================\n",
    "\n",
    "import pandas as pd\n",
    "\n",
    "# Load dataset\n",
    "df = pd.read_csv(\"metadata.csv\", low_memory=False)\n",
    "\n",
    "# Look at first 5 rows\n",
    "df.head()\n",
    "\n",
    "# Shape of dataset\n",
    "print(\"Rows, Columns:\", df.shape)\n",
    "\n",
    "# Info about datatypes\n",
    "print(df.info())\n",
    "\n",
    "# Missing values check\n",
    "print(df.isnull().sum().head(20))\n",
    "\n",
    "# ==========================================\n",
    "# Part 2: Data Cleaning and Preparation\n",
    "# ==========================================\n",
    "\n",
    "# Convert publish_time to datetime\n",
    "df[\"publish_time\"] = pd.to_datetime(df[\"publish_time\"], errors=\"coerce\")\n",
    "\n",
    "# Extract year from publish_time\n",
    "df[\"year\"] = df[\"publish_time\"].dt.year\n",
    "\n",
    "# Add abstract word count\n",
    "df[\"abstract_word_count\"] = df[\"abstract\"].fillna(\"\").apply(lambda x: len(x.split()))\n",
    "\n",
    "df[[\"title\", \"year\", \"abstract_word_count\"]].head()\n",
    "\n",
    "# ==========================================\n",
    "# Part 3: Data Analysis and Visualization\n",
    "# ==========================================\n",
    "\n",
    "import matplotlib.pyplot as plt\n",
    "from wordcloud import WordCloud\n",
    "from collections import Counter\n",
    "import re\n",
    "\n",
    "# --- Publications per year\n",
    "year_counts = df[\"year\"].value_counts().sort_index()\n",
    "plt.figure(figsize=(8,5))\n",
    "plt.bar(year_counts.index, year_counts.values)\n",
    "plt.title(\"Publications by Year\")\n",
    "plt.xlabel(\"Year\")\n",
    "plt.ylabel(\"Number of Papers\")\n",
    "plt.show()\n",
    "\n",
    "# --- Top journals\n",
    "top_journals = df[\"journal\"].value_counts().head(10)\n",
    "print(top_journals)\n",
    "\n",
    "top_journals.plot(kind=\"bar\", figsize=(8,5), title=\"Top Journals\")\n",
    "plt.show()\n",
    "\n",
    "# --- Frequent words in titles\n",
    "titles = \" \".join(df[\"title\"].dropna().astype(str).tolist())\n",
    "words = re.findall(r\"\\w+\", titles.lower())\n",
    "word_freq = Counter(words)\n",
    "\n",
    "print(\"Most common words:\", word_freq.most_common(20))\n",
    "\n",
    "# --- Word cloud of titles\n",
    "wordcloud = WordCloud(width=800, height=400, background_color=\"white\").generate(titles)\n",
    "plt.figure(figsize=(10,5))\n",
    "plt.imshow(wordcloud, interpolation=\"bilinear\")\n",
    "plt.axis(\"off\")\n",
    "plt.show()\n",
    "\n",
    "# ==========================================\n",
    "# Part 4: Reflection\n",
    "# ==========================================\n",
    "\"\"\"\n",
    "Reflection:\n",
    "- The dataset contains thousands of research papers about COVID-19.\n",
    "- I noticed many missing values in journal and abstract fields, which required cleaning.\n",
    "- Publication counts peak in 2020, which makes sense since COVID-19 research surged then.\n",
    "- The most common journals and frequent words in titles highlight the main research themes.\n",
    "- I learned how to clean messy datasets, extract new features, and visualize patterns.\n",
    "\"\"\"\n"
   ]
  },
  {
   "cell_type": "code",
   "execution_count": null,
   "id": "866eb220",
   "metadata": {
    "vscode": {
     "languageId": "plaintext"
    }
   },
   "outputs": [],
   "source": []
  }
 ],
 "metadata": {
  "language_info": {
   "name": "python"
  }
 },
 "nbformat": 4,
 "nbformat_minor": 5
}
